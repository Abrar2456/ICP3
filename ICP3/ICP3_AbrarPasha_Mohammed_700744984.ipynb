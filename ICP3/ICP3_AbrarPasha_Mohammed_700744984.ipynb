{
 "cells": [
  {
   "cell_type": "code",
   "execution_count": 8,
   "id": "d578b10d",
   "metadata": {},
   "outputs": [
    {
     "name": "stdout",
     "output_type": "stream",
     "text": [
      "avg: 45000.0\n",
      "Name : Shahista , Family: Farheen , Salary: 90000 , Department: Medic\n"
     ]
    }
   ],
   "source": [
    "class Employee:#Class for Employee objects\n",
    "    employeeCount=0 #To count number of employee objects\n",
    "    salarySum=0 #sum of salaries to find average of the sum \n",
    "    def __init__(self,name,family,salary,department): #constructor for Employee as per the requirements\n",
    "        self.name = name\n",
    "        self.family = family\n",
    "        self.salary = salary\n",
    "        self.department = department\n",
    "        Employee.employeeCount += 1\n",
    "        Employee.salarySum+=self.salary\n",
    "    def avg(self):\n",
    "        return Employee.salarySum/Employee.employeeCount\n",
    "    def displayEmployee(self):\n",
    "        print(\"Name :\", self.name, \", Family:\", self.family , \", Salary:\", self.salary, \", Department:\",self.department)\n",
    "\n",
    "emp1 = Employee(\"Abrar Pasha\",\"Mohammed\",40000,\"Computer Science\")#Employee objects creation with intialization\n",
    "emp2 = Employee(\"Azeem Pasha\",\"Mohammed\",50000,\"Electronics\")\n",
    "print(\"avg:\",emp2.avg())#calling Average function\n",
    "\n",
    "class FulltimeEmployee(Employee):\n",
    "    def __init__(self, name, family, salary, department):\n",
    "        super().__init__(name, family, salary, department)\n",
    "\n",
    "fte=FulltimeEmployee(\"Shahista\",\"Farheen\",90000,\"Medic\")#FultimeEmployee object\n",
    "fte.displayEmployee()"
   ]
  },
  {
   "cell_type": "code",
   "execution_count": 9,
   "id": "8fd6bbc8",
   "metadata": {},
   "outputs": [
    {
     "name": "stdout",
     "output_type": "stream",
     "text": [
      "[ 1.  2.  3.  4.  5.  6.  7.  8.  9. 10. 11. 12. 13. 14. 15. 16. 17. 18.\n",
      " 19. 20. 21. 22. 23. 24. 25.]\n",
      "[[ 1.  2.  3.  4.  5.]\n",
      " [ 6.  7.  8.  9. 10.]\n",
      " [11. 12. 13. 14. 15.]\n",
      " [16. 17. 18. 19. 20.]\n",
      " [21. 22. 23. 24. 25.]]\n"
     ]
    },
    {
     "data": {
      "text/plain": [
       "array([[ 1.,  2.,  3.,  4.,  0.],\n",
       "       [ 6.,  7.,  8.,  9.,  0.],\n",
       "       [11., 12., 13., 14.,  0.],\n",
       "       [16., 17., 18., 19.,  0.],\n",
       "       [21., 22., 23., 24.,  0.]])"
      ]
     },
     "execution_count": 9,
     "metadata": {},
     "output_type": "execute_result"
    }
   ],
   "source": [
    "import numpy as np #importing the numpy library\n",
    "vector=np.arange(1,21,dtype=float)\n",
    "print(vector)\n",
    "vector=vector.reshape(4,5)\n",
    "print(vector)\n",
    "vector=np.where(np.isin(vector,vector.max(axis=1)),0,vector)\n",
    "vector"
   ]
  },
  {
   "cell_type": "code",
   "execution_count": null,
   "id": "20b81a80",
   "metadata": {},
   "outputs": [],
   "source": []
  }
 ],
 "metadata": {
  "kernelspec": {
   "display_name": "Python 3 (ipykernel)",
   "language": "python",
   "name": "python3"
  },
  "language_info": {
   "codemirror_mode": {
    "name": "ipython",
    "version": 3
   },
   "file_extension": ".py",
   "mimetype": "text/x-python",
   "name": "python",
   "nbconvert_exporter": "python",
   "pygments_lexer": "ipython3",
   "version": "3.10.9"
  }
 },
 "nbformat": 4,
 "nbformat_minor": 5
}
